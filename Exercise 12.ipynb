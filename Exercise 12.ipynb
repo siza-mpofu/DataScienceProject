{
 "cells": [
  {
   "cell_type": "markdown",
   "metadata": {},
   "source": [
    "<center>\n",
    "    <img src=\"https://cf-courses-data.s3.us.cloud-object-storage.appdomain.cloud/IBMDeveloperSkillsNetwork-DS0105EN-SkillsNetwork/labs/Module2/images/SN_web_lightmode.png\" width=\"300\" alt=\"cognitiveclass.ai logo\">\n",
    "</center>\n"
   ]
  },
  {
   "cell_type": "markdown",
   "metadata": {},
   "source": [
    "<h1 style=\"color: navy; font-family: 'sitka small semibold';\">My Jupyter Project</h1>\n",
    "<h4 style=\"color: navy; font-family: 'sitka small semibold';\">Implemented by: Sizalokuhle Mpofu</h4>\n",
    "<h5 style=\"color: navy; font-family: 'sitka small semibold';\">Course: Tools for data science</h5>"
   ]
  },
  {
   "cell_type": "markdown",
   "metadata": {},
   "source": [
    "## Introduction \n",
    "Welcome to my programming project! 🎉  \n",
    "\n",
    "In this notebook, I will be demonstrating solutions to a series of programming exercises. Each section focuses on a specific question or task, where I will:  \n",
    "- Explain the problem and the approach to solve it  \n",
    "- Demonstrate the steps or logic involved  \n",
    "- Present results or conclusions clearly  \n",
    "\n",
    "This notebook is structured question by question, making it easy to follow and understand each solution."
   ]
  },
  {
   "cell_type": "markdown",
   "metadata": {},
   "source": [
    "### Data Science languages\n",
    "The most popular languages used in data science include: \n",
    "- **Python**\n",
    "- **R**\n",
    "- **SQL**\n",
    "- **Julia**\n",
    "- **Scala**\n",
    "- **Java**\n",
    "- **MATLAB**"
   ]
  },
  {
   "cell_type": "markdown",
   "metadata": {},
   "source": [
    "### Data Science Libraries\n",
    "\n",
    "Some of the most widely used libraries in data science include:\n",
    "\n",
    "- **NumPy** – for numerical computations and array operations  \n",
    "- **Pandas** – for data manipulation and analysis  \n",
    "- **Matplotlib** – for creating static visualizations  \n",
    "- **Seaborn** – for statistical data visualization  \n",
    "- **Scikit-learn** – for machine learning and data modeling  \n",
    "- **TensorFlow** – for deep learning and neural networks  \n",
    "- **Keras** – for building and training deep learning models easily  \n",
    "- **PyTorch** – for flexible deep learning research and applications  \n",
    "- **Statsmodels** – for statistical modeling and hypothesis testing "
   ]
  },
  {
   "cell_type": "markdown",
   "metadata": {},
   "source": [
    "### Data Science Tools\n",
    "\n",
    "| Tool            | Category                 | Description |\n",
    "|-----------------|--------------------------|--------------|\n",
    "| **Jupyter Notebook** | Interactive Environment | For writing and running code, visualizing data, and sharing reports. |\n",
    "| **RStudio**          | IDE for R Programming   | Used for statistical computing and graphics in R. |\n",
    "| **Apache Spark**     | Big Data Processing     | For large-scale data processing and distributed computing. |\n",
    "| **TensorFlow**       | Deep Learning Framework | Used to build and train neural networks. |\n",
    "| **Tableau**          | Data Visualization      | For creating interactive dashboards and visual analytics. |\n",
    "| **Power BI**         | Business Intelligence   | Used for visual reporting and data insights. |\n",
    "| **Google Colab**     | Cloud Notebook          | Runs Jupyter notebooks in the cloud with free GPU access. |"
   ]
  },
  {
   "cell_type": "markdown",
   "metadata": {},
   "source": [
    "### Arithmetic Expression Examples\n",
    "\n",
    "In data science and programming, **arithmetic expressions** are used to perform basic mathematical operations such as addition, subtraction, multiplication, and division.  \n",
    "These operations are essential for performing calculations, data transformations, and statistical analysis.\n",
    "\n",
    "Below are some common arithmetic operations:\n",
    "\n",
    "- **Addition (+)** → Adds two numbers  \n",
    "- **Subtraction (-)** → Subtracts one number from another  \n",
    "- **Multiplication (\\*)** → Multiplies two numbers  \n",
    "- **Division (/)** → Divides one number by another  \n",
    "- **Exponentiation (\\*\\*)** → Raises a number to the power of another  \n",
    "- **Modulus (%)** → Returns the remainder after division\n",
    "  "
   ]
  },
  {
   "cell_type": "code",
   "execution_count": 1,
   "metadata": {},
   "outputs": [
    {
     "name": "stdout",
     "output_type": "stream",
     "text": [
      "Multiplication of 5 and 3 is: 15\n",
      "Addition of 5 and 2 is: 7\n"
     ]
    }
   ],
   "source": [
    "# This code multiplies and adds numbers\n",
    "\n",
    "# Define the numbers\n",
    "a = 5\n",
    "b = 3\n",
    "c = 2\n",
    "\n",
    "# Perform arithmetic operations\n",
    "multiplication = a * b\n",
    "addition = a + c\n",
    "\n",
    "# Display the results\n",
    "print(\"Multiplication of\", a, \"and\", b, \"is:\", multiplication)\n",
    "print(\"Addition of\", a, \"and\", c, \"is:\", addition)"
   ]
  },
  {
   "cell_type": "code",
   "execution_count": 2,
   "metadata": {},
   "outputs": [
    {
     "name": "stdout",
     "output_type": "stream",
     "text": [
      "150 minutes is equal to 2.5 hours\n"
     ]
    }
   ],
   "source": [
    "# This code converts minutes to hours\n",
    "\n",
    "# Input: number of minutes\n",
    "minutes = 150\n",
    "\n",
    "# Conversion (1 hour = 60 minutes)\n",
    "hours = minutes / 60\n",
    "\n",
    "# Display the result\n",
    "print(minutes, \"minutes is equal to\", hours, \"hours\")"
   ]
  },
  {
   "cell_type": "markdown",
   "metadata": {},
   "source": [
    "### Objectives\n",
    "\n",
    "In this notebook, we aim to:\n",
    "\n",
    "- Understand basic **data science concepts**  \n",
    "- Learn how to write and format **Markdown cells**  \n",
    "- Perform simple **arithmetic operations** using Python  \n",
    "- Explore how to **convert units** (e.g., minutes to hours)  \n",
    "- Identify key **data science languages, libraries, and tools** "
   ]
  },
  {
   "cell_type": "markdown",
   "metadata": {},
   "source": [
    "### Author\n",
    "\n",
    "**Name:** Sizalokuhle Mpofu  \n",
    "**Date:** October 2025  "
   ]
  },
  {
   "cell_type": "code",
   "execution_count": null,
   "metadata": {},
   "outputs": [],
   "source": []
  }
 ],
 "metadata": {
  "kernelspec": {
   "display_name": "Python 3 (ipykernel)",
   "language": "python",
   "name": "python3"
  },
  "language_info": {
   "codemirror_mode": {
    "name": "ipython",
    "version": 3
   },
   "file_extension": ".py",
   "mimetype": "text/x-python",
   "name": "python",
   "nbconvert_exporter": "python",
   "pygments_lexer": "ipython3",
   "version": "3.12.8"
  }
 },
 "nbformat": 4,
 "nbformat_minor": 4
}
